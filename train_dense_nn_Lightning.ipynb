{
 "cells": [
  {
   "cell_type": "markdown",
   "id": "262fcb8f-f807-4edd-acd2-748cbd1f1be3",
   "metadata": {},
   "source": [
    "# MNIST Next-Number Image Mapping with a Densely Connected NN (PyTorch Lightning)\n",
    "PyTorch Lightning is a much more involved wrapper than HuggingFace Accelerate. It aims to remove most boilerplate code from Base PyTorch -- for example, entirely removing the training loop -- and encapsulates more functionality within Lightning Module classes."
   ]
  },
  {
   "cell_type": "code",
   "execution_count": 1,
   "id": "cae0b713-30ce-43b9-8dd4-217126c3192a",
   "metadata": {},
   "outputs": [],
   "source": [
    "import torch\n",
    "from torch import nn\n",
    "from torch.utils.data import Dataset\n",
    "from torchvision import datasets\n",
    "from torchvision.transforms import ToTensor\n",
    "import lightning as pl\n",
    "from lightning.pytorch.callbacks import ModelCheckpoint, TQDMProgressBar\n",
    "\n",
    "from netCDF4 import Dataset as nc_Dataset\n",
    "from torch.utils.data import DataLoader\n",
    "\n",
    "import xarray as xr\n",
    "import pandas as pd\n",
    "import os\n",
    "import numpy as np\n",
    "import matplotlib.pyplot as plt"
   ]
  },
  {
   "cell_type": "markdown",
   "id": "f2fb6323-7734-4697-883e-9a49dc9d0a99",
   "metadata": {},
   "source": [
    "## Boilerplate Classes <span style=\"color: red;\">(substantial differences)</span>\n",
    "PyTorch Lightning shifts the boilerplate from main() to a couple module classes.\n",
    "\n",
    "### Dataset Class\n",
    "With PyTorch Lightning, ANY iterable can be used for the train/test splits. However, writing a functional torch Dataset will save you headaches down the line. For this reason, we keep the same Dataset as before. In fact, we can go one step further in the PyTorch Lightning framework and write a class which inherits from lightning.LightningDataModule to fully encapsulate the data loading functionality.\n",
    "\n",
    "### Model Class\n",
    "Inherits from lightning.LightningModule. This class encapsulates your model architecture and training loop behavior. PyTorch Lightning modifies training loop behavior via \"hooks\" (a full list of which can be found [here](https://lightning.ai/docs/pytorch/stable/api/lightning.pytorch.core.hooks.ModelHooks.html)). Basically any custom behavior you would normally describe during the training loop in base PyTorch must instead be called in the relevant hook within this class.\n",
    "\n",
    "The functions I have defined in this class are as follows. 100% necessary functions have an *:\n",
    "- **\\_\\_init\\_\\_(self, \\*args, \\*\\*hyperparameter_kwargs)\\*** : In addition to instantiating your model's architectural components, you also instantiate loss function and optimizer hyperparameters.\n",
    "- **forward(self, x, \\*args)\\*** : Describes how an input tensor, x, moves through your model. Since most modules don't mutate x, x is reassigned after each operation. It goes without saying that the final tensor returned by this method should match the dimensions of your target.\n",
    "- **configure_optimizers(self)\\*** : Defines and returns the optimizer used during training. This function can also include a learning rate scheduler, in which case the function would return \\[optimizer], \\[lr_scheduler].\n",
    "- **training_step(self, train_batch, batch_idx)\\*** : Defines how to compute loss during the training step and can encapsulate any additional logging behavior after each training step.\n",
    "- **validation_step(self, val_batch, batch_idx)** : Defines behavior when computing loss on the validation dataset (in our case, just the test data). I describe two methods for printing out model performance. The first is to use the built-in logger (basically just a dict) which automatically aggregates the loss with a mean across all batches. The second is to manually aggregate using the returned losses from every batch.\n",
    "- **on_validation_epoch_end(self, outputs)** : Example of a module hook. Describes behavior at the end of a training epoch after the last validation step in that epoch. The outputs are a list of returned losses from **validation_step** calls."
   ]
  },
  {
   "cell_type": "code",
   "execution_count": 2,
   "id": "8d8fa6f0-d17a-47fa-bd95-e6150569f0c0",
   "metadata": {},
   "outputs": [],
   "source": [
    "class MNISTNextDigitDataset(Dataset):\n",
    "    \"\"\"\n",
    "    Assumes you've generated nc files as described in create_nc_MNIST.py and have mappings from MNIST_num2num_mapping.py.\n",
    "    \"\"\"\n",
    "    def __init__(self, is_train = False):\n",
    "        \"\"\"\n",
    "        :param is_train: bool - describes whether to load training or testing dataset\n",
    "        \"\"\"\n",
    "\n",
    "        #get paths\n",
    "        if is_train:\n",
    "            data_save_path = os.path.join(os.getcwd(), \"data\", \"MNIST\", \"nc_versions\", \"MNIST_training.nc\")\n",
    "            indices_save_path = os.path.join(os.getcwd(), \"data\", \"MNIST\", \"num2num_indices\", \"train_indices.csv\")\n",
    "        else:\n",
    "            data_save_path = os.path.join(os.getcwd(), \"data\", \"MNIST\", \"nc_versions\", \"MNIST_testing.nc\")\n",
    "            indices_save_path = os.path.join(os.getcwd(), \"data\", \"MNIST\", \"num2num_indices\", \"test_indices.csv\")\n",
    "\n",
    "        #open netCDF4 Dataset of MNIST\n",
    "        self.nc_dataset = nc_Dataset(data_save_path)\n",
    "\n",
    "        #read mapping indices from CSV\n",
    "        self.predictor_indices, self.target_indices = self._read_mapping_indices_from_csv(indices_save_path)\n",
    "        assert len(self.predictor_indices) == len(self.target_indices), \"Predictor indices array should be of the same length as the target indices array\"\n",
    "        \n",
    "    def __len__(self):\n",
    "        return len(self.predictor_indices)\n",
    "        \n",
    "    def __getitem__(self, idx):\n",
    "\n",
    "        #get sample index for predictor and target\n",
    "        p_idx = self.predictor_indices[idx]\n",
    "        t_idx = self.target_indices[idx]\n",
    "\n",
    "        #extract images from nc_dataset\n",
    "        predictor = self.nc_dataset[\"image\"][p_idx,:,:].data[np.newaxis,:,:] #get image and add channel dimension\n",
    "        target = self.nc_dataset[\"image\"][t_idx,:,:].data[np.newaxis,:,:]\n",
    "        \n",
    "        return (predictor), (target) #important to return tuple of tuples! Allows nice X, y unpacking and allows PyTorch to do the tensor casting itself\n",
    "    \n",
    "    @staticmethod\n",
    "    def _read_mapping_indices_from_csv(csv_path):\n",
    "        df = pd.read_csv(csv_path)\n",
    "        predictor_indices = df['predictor'].values \n",
    "        target_indices = df['target'].values\n",
    "        return predictor_indices, target_indices\n",
    "\n",
    "#handles data loading\n",
    "class MNISTDataModule(pl.LightningDataModule):\n",
    "    def __init__(self, batch_size=64):\n",
    "        super().__init__()\n",
    "        self.batch_size = batch_size\n",
    "        self.train_ds = MNISTNextDigitDataset(is_train=True)\n",
    "        self.test_ds = MNISTNextDigitDataset(is_train=False)\n",
    "\n",
    "    def train_dataloader(self):\n",
    "        return DataLoader(self.train_ds, batch_size=self.batch_size, shuffle=True)\n",
    "    \n",
    "    def val_dataloader(self):\n",
    "        return DataLoader(self.test_ds, batch_size=self.batch_size, shuffle=True)\n",
    "\n",
    "#super simple neural net\n",
    "class DenseNeuralNetwork(pl.LightningModule):\n",
    "    def __init__(self, learning_rate = -999.):\n",
    "        super().__init__()\n",
    "\n",
    "        #set hyperparameters\n",
    "        self.learning_rate = learning_rate\n",
    "        self.loss_function = nn.MSELoss()\n",
    "        \n",
    "        #define components of your network\n",
    "        self.flatten = nn.Flatten()\n",
    "        self.linear_relu_stack = nn.Sequential(\n",
    "            nn.Linear(28*28, 512), #hidden layer 1; img_dim -> 512 neurons\n",
    "            nn.ReLU(), #activation\n",
    "            nn.Linear(512,512), #hidden layer 2; 512 neurons -> 512 neurons\n",
    "            nn.ReLU(), #activation\n",
    "            nn.Linear(512, 28*28), #output layer; 512 neurons -> img_dim\n",
    "        )\n",
    "\n",
    "    def forward(self, x):\n",
    "        x = self.flatten(x) #flatten the image into a very long 1D vector\n",
    "        x = self.linear_relu_stack(x) #pass it through the two hidden layers\n",
    "        x = x.view(-1, 1, 28, 28) #reshape the final 1D vector back into an image\n",
    "        return x\n",
    "\n",
    "    def configure_optimizers(self):\n",
    "        optimizer = torch.optim.Adam(self.parameters(), lr = self.learning_rate) #\n",
    "        return optimizer\n",
    "\n",
    "    def training_step(self, train_batch, batch_idx):\n",
    "        X, y = train_batch\n",
    "        pred = self(X) #note that we call self instead of model\n",
    "        loss = self.loss_function(pred, y)\n",
    "        return loss\n",
    "\n",
    "    def validation_step(self, val_batch, batch_idx):\n",
    "        X, y = val_batch\n",
    "        pred = self(X)\n",
    "        loss = self.loss_function(pred, y)\n",
    "        self.log(\"val_loss\", loss, sync_dist = True) #automatically takes the mean across batches\n",
    "        return loss\n",
    "\n",
    "    def on_validation_epoch_end(self):\n",
    "        \n",
    "        #using built-in logging functionality\n",
    "        avg_loss = torch.tensor(self.trainer.callback_metrics[\"val_loss\"].item())\n",
    "        print(f\"Avg test loss: {avg_loss}\")\n"
   ]
  },
  {
   "cell_type": "markdown",
   "id": "38544c2f-1ad7-4f3e-ab4a-b20c7f5d6ba5",
   "metadata": {},
   "source": [
    "## Instantiating Training Objects\n",
    "\n",
    "As before, we need to instantiate training objects. With PyTorch Lightning, there are fewer of them. We simply instantiate a DataModule in order to handle data loading. We now define callbacks to inform custom (like in Keras) behavior during training(see [here](https://lightning.ai/docs/pytorch/stable/extensions/callbacks.html)). We then define our model and trainer."
   ]
  },
  {
   "cell_type": "code",
   "execution_count": 3,
   "id": "9100ef71-65e8-4a07-9768-519fd3ca9765",
   "metadata": {},
   "outputs": [
    {
     "name": "stderr",
     "output_type": "stream",
     "text": [
      "GPU available: True (cuda), used: True\n",
      "TPU available: False, using: 0 TPU cores\n",
      "HPU available: False, using: 0 HPUs\n",
      "C:\\Users\\nimzo\\miniconda3\\envs\\pytorch_tutorial\\Lib\\site-packages\\lightning\\pytorch\\trainer\\connectors\\logger_connector\\logger_connector.py:76: Starting from v1.9.0, `tensorboardX` has been removed as a dependency of the `lightning.pytorch` package, due to potential conflicts with other packages in the ML ecosystem. For this reason, `logger=True` will use `CSVLogger` as the default logger, unless the `tensorboard` or `tensorboardX` packages are found. Please `pip install lightning[extra]` or one of them to enable TensorBoard support by default\n"
     ]
    }
   ],
   "source": [
    "#set training hyperparameters\n",
    "learning_rate = 1e-3\n",
    "batch_size = 64\n",
    "epochs = 5\n",
    "\n",
    "#create data module\n",
    "data_module = MNISTDataModule(batch_size=batch_size)\n",
    "\n",
    "#initialize model checkpointing callback and progress bar (so it's less messy)\n",
    "checkpoint_callback = ModelCheckpoint(\n",
    "    dirpath=os.path.join(os.getcwd(), \"models\", \"MNIST_num2num\", \"model_checkpoints\", \"dense_nn_2HL_Lightning\"),\n",
    "    filename=\"epoch{epoch}\",\n",
    "    save_top_k=-1  #saves all epochs\n",
    ")\n",
    "progress_bar = TQDMProgressBar(refresh_rate = 100)\n",
    "\n",
    "#initialize model and trainer\n",
    "model = DenseNeuralNetwork(learning_rate = learning_rate)\n",
    "trainer = pl.Trainer(devices = 1, accelerator = \"gpu\", max_epochs = epochs, callbacks = [checkpoint_callback, progress_bar])"
   ]
  },
  {
   "cell_type": "markdown",
   "id": "1a108b91-3b27-4549-8507-1eaa51b20f09",
   "metadata": {},
   "source": [
    "## Model Performance Prior to Training\n",
    "Let's take a look at what a model initialized with random weights predicts. The first cell gives the average MSE over the test dataset. The second cell visualizes a random test sample."
   ]
  },
  {
   "cell_type": "code",
   "execution_count": 4,
   "id": "1b4db8ef-b0f2-4883-9787-91829a09c2c0",
   "metadata": {},
   "outputs": [
    {
     "name": "stdout",
     "output_type": "stream",
     "text": [
      "Performance before training:\n",
      "Avg test loss: 0.1167864642632655\n"
     ]
    }
   ],
   "source": [
    "def evaluate_model(model, loss_function, test_dataloader, device = (\"cuda\")):\n",
    "    \"\"\"\n",
    "    Prints the average value of your model's loss on the test dataset\n",
    "    :param model: torch.nn.Module - your model you're training\n",
    "    :param loss_function: torch.nn.Module - your loss function\n",
    "    :param test_dataloader: torch.utils.data.DataLoader - Your test dataset's data loader\n",
    "    \"\"\"\n",
    "    model.eval()\n",
    "    test_loss = 0.\n",
    "    with torch.no_grad():\n",
    "        for X, y in test_dataloader:\n",
    "            X = X.to(device)\n",
    "            y = y.to(device)\n",
    "            pred = model(X)\n",
    "            test_loss += loss_function(pred, y).item()\n",
    "    print(f\"Avg test loss: {test_loss / len(test_dataloader)}\")\n",
    "\n",
    "#see how a randomly initialized model performs\n",
    "print(\"Performance before training:\")\n",
    "device = (\"cuda\")\n",
    "model.to(device)\n",
    "loss_function = nn.MSELoss()\n",
    "evaluate_model(model, loss_function, data_module.val_dataloader()) #not very useful to us at this point..."
   ]
  },
  {
   "cell_type": "code",
   "execution_count": 5,
   "id": "080d9f43-e401-47b2-9c1d-a9f2546b2d00",
   "metadata": {},
   "outputs": [
    {
     "data": {
      "image/png": "[encoded data removed]",
      "text/plain": [
       "<Figure size 1500x500 with 3 Axes>"
      ]
     },
     "metadata": {},
     "output_type": "display_data"
    }
   ],
   "source": [
    "def plot_num2num_prediction(X, y, pred):\n",
    "    \"\"\"\n",
    "    X, y, and pred are all numpy arrays of dimension (28, 28)\n",
    "    \"\"\"\n",
    "    fig, axes = plt.subplots(1, 3, figsize=(15, 5))\n",
    "    axes[0].imshow(X.squeeze(), cmap=\"gray\", vmin = 0., vmax = 1.)\n",
    "    axes[0].set_title(f\"Predictor Image\")\n",
    "    axes[0].axis(\"off\")\n",
    "    axes[1].imshow(pred.squeeze(), cmap=\"gray\", vmin = 0., vmax = 1.)\n",
    "    axes[1].set_title(f\"Predicted Image\")\n",
    "    axes[1].axis(\"off\")\n",
    "    axes[2].imshow(y.squeeze(), cmap=\"gray\", vmin = 0., vmax = 1.)\n",
    "    axes[2].set_title(f\"True Image\")\n",
    "    axes[2].axis(\"off\")\n",
    "    plt.tight_layout()\n",
    "    plt.show()\n",
    "\n",
    "#select a random sample from our test dataset\n",
    "rand_test_idx = np.random.randint(len(data_module.test_ds))\n",
    "i = rand_test_idx\n",
    "\n",
    "#index test Dataset to get predictor (X) and target (y)\n",
    "X, y = data_module.test_ds[i]\n",
    "X_gpu = torch.from_numpy(X).to(device) #put the data onto the gpu\n",
    "\n",
    "#make a prediction without keeping track of the gradient\n",
    "with torch.no_grad():\n",
    "    pred = model(X_gpu)\n",
    "    pred = pred.cpu().numpy()\n",
    "\n",
    "#plot predictions\n",
    "plot_num2num_prediction(X, y, pred) #ok, there's room for improvement!"
   ]
  },
  {
   "cell_type": "markdown",
   "id": "d11a39fb-2647-4ce7-b7e0-c58a47689f5a",
   "metadata": {},
   "source": [
    "## The Training Loop\n",
    "... is gone! Just call fit() on the trainer."
   ]
  },
  {
   "cell_type": "code",
   "execution_count": 6,
   "id": "704cf064-f1c3-4f41-8368-3e1d1ab3ee80",
   "metadata": {},
   "outputs": [
    {
     "name": "stderr",
     "output_type": "stream",
     "text": [
      "You are using a CUDA device ('NVIDIA GeForce RTX 4060 Laptop GPU') that has Tensor Cores. To properly utilize them, you should set `torch.set_float32_matmul_precision('medium' | 'high')` which will trade-off precision for performance. For more details, read https://pytorch.org/docs/stable/generated/torch.set_float32_matmul_precision.html#torch.set_float32_matmul_precision\n",
      "C:\\Users\\nimzo\\miniconda3\\envs\\pytorch_tutorial\\Lib\\site-packages\\lightning\\pytorch\\callbacks\\model_checkpoint.py:654: Checkpoint directory C:\\Users\\nimzo\\Documents\\PyTorch Tutorial\\git_version\\models\\MNIST_num2num\\model_checkpoints\\dense_nn_2HL_Lightning exists and is not empty.\n",
      "LOCAL_RANK: 0 - CUDA_VISIBLE_DEVICES: [0]\n",
      "\n",
      "  | Name              | Type       | Params | Mode\n",
      "--------------------------------------------------------\n",
      "0 | loss_function     | MSELoss    | 0      | eval\n",
      "1 | flatten           | Flatten    | 0      | eval\n",
      "2 | linear_relu_stack | Sequential | 1.1 M  | eval\n",
      "--------------------------------------------------------\n",
      "1.1 M     Trainable params\n",
      "0         Non-trainable params\n",
      "1.1 M     Total params\n",
      "4.267     Total estimated model params size (MB)\n",
      "0         Modules in train mode\n",
      "8         Modules in eval mode\n"
     ]
    },
    {
     "name": "stdout",
     "output_type": "stream",
     "text": [
      "Avg test loss: 0.11209137737751007|██████████████████████████████████████████████████████| 2/2 [00:00<00:00, 49.45it/s]\n",
      "                                                                                                                       "
     ]
    },
    {
     "name": "stderr",
     "output_type": "stream",
     "text": [
      "C:\\Users\\nimzo\\miniconda3\\envs\\pytorch_tutorial\\Lib\\site-packages\\lightning\\pytorch\\trainer\\connectors\\data_connector.py:476: Your `val_dataloader`'s sampler has shuffling enabled, it is strongly recommended that you turn shuffling off for val/test dataloaders.\n",
      "C:\\Users\\nimzo\\miniconda3\\envs\\pytorch_tutorial\\Lib\\site-packages\\lightning\\pytorch\\trainer\\connectors\\data_connector.py:425: The 'val_dataloader' does not have many workers which may be a bottleneck. Consider increasing the value of the `num_workers` argument` to `num_workers=31` in the `DataLoader` to improve performance.\n",
      "C:\\Users\\nimzo\\miniconda3\\envs\\pytorch_tutorial\\Lib\\site-packages\\lightning\\pytorch\\trainer\\connectors\\data_connector.py:425: The 'train_dataloader' does not have many workers which may be a bottleneck. Consider increasing the value of the `num_workers` argument` to `num_workers=31` in the `DataLoader` to improve performance.\n"
     ]
    },
    {
     "name": "stdout",
     "output_type": "stream",
     "text": [
      "Epoch 0: 100%|███████████████████████████████████████████████████████████| 1563/1563 [00:38<00:00, 40.80it/s, v_num=10]\n",
      "\u001b[Aidation: |                                                                                    | 0/? [00:00<?, ?it/s]\n",
      "\u001b[Aidation:   0%|                                                                              | 0/313 [00:00<?, ?it/s]\n",
      "\u001b[Aidation DataLoader 0:   0%|                                                                 | 0/313 [00:00<?, ?it/s]\n",
      "\u001b[Aidation DataLoader 0:  32%|█████████████████▌                                     | 100/313 [00:02<00:05, 41.22it/s]\n",
      "\u001b[Aidation DataLoader 0:  64%|███████████████████████████████████▏                   | 200/313 [00:04<00:02, 41.71it/s]\n",
      "\u001b[Aidation DataLoader 0:  96%|████████████████████████████████████████████████████▋  | 300/313 [00:07<00:00, 41.80it/s]\n",
      "\u001b[AAvg test loss: 0.055003754794597626███████████████████████████████████████████████| 313/313 [00:07<00:00, 41.82it/s]\n",
      "\n",
      "Epoch 1: 100%|███████████████████████████████████████████████████████████| 1563/1563 [00:37<00:00, 41.70it/s, v_num=10]\n",
      "\u001b[Aidation: |                                                                                    | 0/? [00:00<?, ?it/s]\n",
      "\u001b[Aidation:   0%|                                                                              | 0/313 [00:00<?, ?it/s]\n",
      "\u001b[Aidation DataLoader 0:   0%|                                                                 | 0/313 [00:00<?, ?it/s]\n",
      "\u001b[Aidation DataLoader 0:  32%|█████████████████▌                                     | 100/313 [00:02<00:04, 43.29it/s]\n",
      "\u001b[Aidation DataLoader 0:  64%|███████████████████████████████████▏                   | 200/313 [00:04<00:02, 43.18it/s]\n",
      "\u001b[Aidation DataLoader 0:  96%|████████████████████████████████████████████████████▋  | 300/313 [00:06<00:00, 44.53it/s]\n",
      "\u001b[AAvg test loss: 0.054667383432388306███████████████████████████████████████████████| 313/313 [00:07<00:00, 44.65it/s]\n",
      "\n",
      "Epoch 2: 100%|███████████████████████████████████████████████████████████| 1563/1563 [00:36<00:00, 42.46it/s, v_num=10]\n",
      "\u001b[Aidation: |                                                                                    | 0/? [00:00<?, ?it/s]\n",
      "\u001b[Aidation:   0%|                                                                              | 0/313 [00:00<?, ?it/s]\n",
      "\u001b[Aidation DataLoader 0:   0%|                                                                 | 0/313 [00:00<?, ?it/s]\n",
      "\u001b[Aidation DataLoader 0:  32%|█████████████████▌                                     | 100/313 [00:02<00:04, 44.98it/s]\n",
      "\u001b[Aidation DataLoader 0:  64%|███████████████████████████████████▏                   | 200/313 [00:04<00:02, 44.71it/s]\n",
      "\u001b[Aidation DataLoader 0:  96%|████████████████████████████████████████████████████▋  | 300/313 [00:06<00:00, 44.71it/s]\n",
      "\u001b[AAvg test loss: 0.05460747703909874████████████████████████████████████████████████| 313/313 [00:06<00:00, 44.87it/s]\n",
      "\n",
      "Epoch 3: 100%|███████████████████████████████████████████████████████████| 1563/1563 [00:40<00:00, 38.59it/s, v_num=10]\n",
      "\u001b[Aidation: |                                                                                    | 0/? [00:00<?, ?it/s]\n",
      "\u001b[Aidation:   0%|                                                                              | 0/313 [00:00<?, ?it/s]\n",
      "\u001b[Aidation DataLoader 0:   0%|                                                                 | 0/313 [00:00<?, ?it/s]\n",
      "\u001b[Aidation DataLoader 0:  32%|█████████████████▌                                     | 100/313 [00:02<00:05, 39.85it/s]\n",
      "\u001b[Aidation DataLoader 0:  64%|███████████████████████████████████▏                   | 200/313 [00:04<00:02, 40.40it/s]\n",
      "\u001b[Aidation DataLoader 0:  96%|████████████████████████████████████████████████████▋  | 300/313 [00:07<00:00, 40.87it/s]\n",
      "\u001b[AAvg test loss: 0.05464673414826393████████████████████████████████████████████████| 313/313 [00:07<00:00, 40.77it/s]\n",
      "\n",
      "Epoch 4: 100%|███████████████████████████████████████████████████████████| 1563/1563 [00:41<00:00, 37.75it/s, v_num=10]\n",
      "\u001b[Aidation: |                                                                                    | 0/? [00:00<?, ?it/s]\n",
      "\u001b[Aidation:   0%|                                                                              | 0/313 [00:00<?, ?it/s]\n",
      "\u001b[Aidation DataLoader 0:   0%|                                                                 | 0/313 [00:00<?, ?it/s]\n",
      "\u001b[Aidation DataLoader 0:  32%|█████████████████▌                                     | 100/313 [00:02<00:05, 41.41it/s]\n",
      "\u001b[Aidation DataLoader 0:  64%|███████████████████████████████████▏                   | 200/313 [00:05<00:02, 37.73it/s]\n",
      "\u001b[Aidation DataLoader 0:  96%|████████████████████████████████████████████████████▋  | 300/313 [00:08<00:00, 37.27it/s]\n",
      "\u001b[AAvg test loss: 0.05455316603183746████████████████████████████████████████████████| 313/313 [00:08<00:00, 37.32it/s]\n",
      "\n",
      "Epoch 4: 100%|███████████████████████████████████████████████████████████| 1563/1563 [00:49<00:00, 31.37it/s, v_num=10]"
     ]
    },
    {
     "name": "stderr",
     "output_type": "stream",
     "text": [
      "`Trainer.fit` stopped: `max_epochs=5` reached.\n"
     ]
    },
    {
     "name": "stdout",
     "output_type": "stream",
     "text": [
      "Epoch 4: 100%|███████████████████████████████████████████████████████████| 1563/1563 [00:49<00:00, 31.34it/s, v_num=10]\n"
     ]
    }
   ],
   "source": [
    "#call fit and PyTorch Lightning does the rest\n",
    "trainer.fit(model, datamodule=data_module)"
   ]
  },
  {
   "cell_type": "markdown",
   "id": "9404fa74-f287-4aff-a731-1c10088b0a4d",
   "metadata": {},
   "source": [
    "## Model Performance After Training\n",
    "\n",
    "Now when we feed the trained model a predictor image, it successfully creates an image of the next digit, abeit fuzzily. This has everything to do with the uncertainty in the problem. The digit mapping is *not* injective, that is, the same digit may be mapped to several different subsequent ones. Therefore, when asking the model to make a deterministic step to the next digit, it has to \"hedge\" against not knowing the particular form of the next digit."
   ]
  },
  {
   "cell_type": "code",
   "execution_count": 7,
   "id": "e03eed8a-1805-4d2d-9e8b-073be5a90f6f",
   "metadata": {},
   "outputs": [
    {
     "data": {
      "image/png": "[encoded data removed]",
      "text/plain": [
       "<Figure size 1500x500 with 3 Axes>"
      ]
     },
     "metadata": {},
     "output_type": "display_data"
    }
   ],
   "source": [
    "#make prediction plot as before, but with trained model\n",
    "model.to(device)\n",
    "rand_test_idx = np.random.randint(len(data_module.test_ds))\n",
    "i = rand_test_idx\n",
    "X, y = data_module.test_ds[i]\n",
    "X_gpu = torch.from_numpy(X).to(device)\n",
    "with torch.no_grad():\n",
    "    pred = model(X_gpu)\n",
    "    pred = pred.cpu().numpy()\n",
    "plot_num2num_prediction(X, y, pred)"
   ]
  },
  {
   "cell_type": "markdown",
   "id": "cebf72c2-55c9-47ea-8110-dd52caa1c460",
   "metadata": {},
   "source": [
    "## Impact of Fuzziness on Autoregressive Rollout\n",
    "With our simple, densely-connected NN architecture, the fuzziness causes instability in an autoregressive rollout (feeding model output back into itself). Particularly, the fuzzy 1s, 5s, and 3s are confused for 8s, and the model gets caught osillating between 9s and 0ish output."
   ]
  },
  {
   "cell_type": "code",
   "execution_count": 8,
   "id": "f64bdb33-9cd8-42d8-8c8f-f090763d85d5",
   "metadata": {},
   "outputs": [
    {
     "data": {
      "image/png": "[encoded data removed]",
      "text/plain": [
       "<Figure size 5000x500 with 10 Axes>"
      ]
     },
     "metadata": {},
     "output_type": "display_data"
    }
   ],
   "source": [
    "def plot_autoregressive_sequence(X, model, n_steps=3):\n",
    "    \"\"\"\n",
    "    Plots the progression from the original predictor image through n autoregressive steps.\n",
    "    :param X: numpy array - Original predictor image\n",
    "    :param model: torch.nn.Module - Trained model for predictions\n",
    "    :param n_steps: int - Number of autoregressive steps to take\n",
    "    \"\"\"\n",
    "    device = next(model.parameters()).device \n",
    "    X_gpu = torch.from_numpy(X).to(device)\n",
    "\n",
    "    predictions = [X] \n",
    "    current_input = X_gpu\n",
    "\n",
    "    with torch.no_grad():\n",
    "        for _ in range(n_steps):\n",
    "            pred = model(current_input)  \n",
    "            pred_np = pred.cpu().numpy()  \n",
    "            predictions.append(pred_np) \n",
    "            current_input = torch.from_numpy(pred_np).to(device)  # Use prediction as new input\n",
    "\n",
    "    # Create dynamic plotting layout\n",
    "    n_cols = n_steps + 1  # Predictor + n steps + True image\n",
    "    fig, axes = plt.subplots(1, n_cols, figsize=(5 * n_cols, 5))\n",
    "\n",
    "    # Plot predictor image\n",
    "    axes[0].imshow(X.squeeze(), cmap=\"gray\", vmin=0., vmax=1.)\n",
    "    axes[0].set_title(\"Predictor Image\")\n",
    "    axes[0].axis(\"off\")\n",
    "\n",
    "    # Plot each autoregressive step\n",
    "    for i in range(1, n_steps + 1):\n",
    "        axes[i].imshow(predictions[i].squeeze(), cmap=\"gray\", vmin=0., vmax=1.)\n",
    "        axes[i].set_title(f\"Predicted Image (Step {i})\")\n",
    "        axes[i].axis(\"off\")\n",
    "\n",
    "    plt.tight_layout()\n",
    "    plt.show()\n",
    "\n",
    "# Select a random test sample\n",
    "rand_test_idx = np.random.randint(len(data_module.test_ds))\n",
    "X, y = data_module.test_ds[rand_test_idx]\n",
    "\n",
    "# Call function with n autoregressive steps\n",
    "plot_autoregressive_sequence(X, model, n_steps=9)\n"
   ]
  }
 ],
 "metadata": {
  "kernelspec": {
   "display_name": "Python 3 (ipykernel)",
   "language": "python",
   "name": "python3"
  },
  "language_info": {
   "codemirror_mode": {
    "name": "ipython",
    "version": 3
   },
   "file_extension": ".py",
   "mimetype": "text/x-python",
   "name": "python",
   "nbconvert_exporter": "python",
   "pygments_lexer": "ipython3",
   "version": "3.13.1"
  }
 },
 "nbformat": 4,
 "nbformat_minor": 5
}
