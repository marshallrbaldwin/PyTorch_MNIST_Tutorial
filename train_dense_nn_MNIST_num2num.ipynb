{
 "cells": [
  {
   "cell_type": "code",
   "execution_count": 1,
   "id": "cae0b713-30ce-43b9-8dd4-217126c3192a",
   "metadata": {},
   "outputs": [],
   "source": [
    "import torch\n",
    "from torch import nn\n",
    "from torch.utils.data import Dataset\n",
    "from torchvision import datasets\n",
    "from torchvision.transforms import ToTensor\n",
    "\n",
    "import ast\n",
    "from netCDF4 import Dataset as nc_Dataset\n",
    "from torch.utils.data import DataLoader\n",
    "\n",
    "import xarray as xr\n",
    "import pandas as pd\n",
    "import os\n",
    "import numpy as np\n",
    "import matplotlib.pyplot as plt"
   ]
  },
  {
   "cell_type": "code",
   "execution_count": 2,
   "id": "8d8fa6f0-d17a-47fa-bd95-e6150569f0c0",
   "metadata": {},
   "outputs": [],
   "source": [
    "class MNISTNextDigitDataset(Dataset):\n",
    "    \"\"\"\n",
    "    Assumes you've generated nc files as described in create_nc_MNIST.py and have mappings from MNIST_num2num_mapping.py.\n",
    "    \"\"\"\n",
    "    def __init__(self, is_train = False):\n",
    "        \"\"\"\n",
    "        :param is_train: bool - describes whether to load training or testing dataset\n",
    "        \"\"\"\n",
    "\n",
    "        #get paths\n",
    "        if is_train:\n",
    "            data_save_path = os.path.join(os.getcwd(), \"data\", \"MNIST\", \"nc_versions\", \"MNIST_training.nc\")\n",
    "            indices_save_path = os.path.join(os.getcwd(), \"data\", \"MNIST\", \"num2num_indices\", \"train_indices.csv\")\n",
    "        else:\n",
    "            data_save_path = os.path.join(os.getcwd(), \"data\", \"MNIST\", \"nc_versions\", \"MNIST_testing.nc\")\n",
    "            indices_save_path = os.path.join(os.getcwd(), \"data\", \"MNIST\", \"num2num_indices\", \"test_indices.csv\")\n",
    "\n",
    "        #open netCDF4 Dataset of MNIST\n",
    "        self.nc_dataset = nc_Dataset(data_save_path)\n",
    "\n",
    "        #read mapping indices from CSV\n",
    "        self.predictor_indices, self.target_indices = self._read_mapping_indices_from_csv(indices_save_path)\n",
    "        assert len(self.predictor_indices) == len(self.target_indices), \"Predictor indices array should be of the same length as the target indices array\"\n",
    "        \n",
    "    def __len__(self):\n",
    "        return len(self.predictor_indices)\n",
    "        \n",
    "    def __getitem__(self, idx):\n",
    "\n",
    "        #get sample index for predictor and target\n",
    "        p_idx = self.predictor_indices[idx]\n",
    "        t_idx = self.target_indices[idx]\n",
    "\n",
    "        #extract images from nc_dataset\n",
    "        predictor = self.nc_dataset[\"image\"][p_idx,:,:].data[np.newaxis,:,:] #get image and add channel dimension\n",
    "        target = self.nc_dataset[\"image\"][t_idx,:,:].data[np.newaxis,:,:]\n",
    "        \n",
    "        return (predictor), (target) #important to return tuple of tuples! Allows nice X, y unpacking and allows PyTorch to do the tensor casting itself\n",
    "    \n",
    "    @staticmethod\n",
    "    def _read_mapping_indices_from_csv(csv_path):\n",
    "        df = pd.read_csv(csv_path)\n",
    "        predictor_indices = df['predictor'].values  # Access column by name\n",
    "        target_indices = df['target'].values\n",
    "        return predictor_indices, target_indices\n",
    "\n",
    "#super simple neural net\n",
    "class DenseNeuralNetwork(nn.Module):\n",
    "    def __init__(self):\n",
    "        super().__init__()\n",
    "        self.flatten = nn.Flatten()\n",
    "        self.linear_relu_stack = nn.Sequential(\n",
    "            nn.Linear(28*28, 512),\n",
    "            nn.ReLU(),\n",
    "            nn.Linear(512,512),\n",
    "            nn.ReLU(),\n",
    "            nn.Linear(512, 28*28),\n",
    "        )\n",
    "\n",
    "    def forward(self, x):\n",
    "        x = self.flatten(x)\n",
    "        x = self.linear_relu_stack(x)\n",
    "        x = x.view(-1, 1, 28, 28)\n",
    "        return x"
   ]
  },
  {
   "cell_type": "code",
   "execution_count": 3,
   "id": "9100ef71-65e8-4a07-9768-519fd3ca9765",
   "metadata": {},
   "outputs": [
    {
     "name": "stdout",
     "output_type": "stream",
     "text": [
      "Performance before training:\n",
      "Avg test loss: 0.11682341050225706\n"
     ]
    }
   ],
   "source": [
    "#PyTorch's lingo for your GPU\n",
    "device = (\"cuda\")\n",
    "\n",
    "#initialize model and put it on the GPU\n",
    "model = DenseNeuralNetwork()\n",
    "model = model.to(device)\n",
    "\n",
    "#set training hyperparameters\n",
    "learning_rate = 1e-3\n",
    "batch_size = 64\n",
    "epochs = 5\n",
    "\n",
    "#initialize optimization objects\n",
    "loss_function = nn.MSELoss()\n",
    "optimizer = torch.optim.Adam(model.parameters(), lr = learning_rate)\n",
    "\n",
    "#load datasets\n",
    "train_ds = MNISTNextDigitDataset(is_train = True)\n",
    "test_ds = MNISTNextDigitDataset(is_train = False)\n",
    "\n",
    "#put datasets into DataLoaders so PyTorch handles batches and shuffling\n",
    "train_dataloader = DataLoader(train_ds, batch_size = batch_size, shuffle = True)\n",
    "test_dataloader = DataLoader(test_ds, batch_size = batch_size, shuffle = True)\n",
    "\n",
    "def evaluate_model(model, loss_function, test_dataloader):\n",
    "    \"\"\"\n",
    "    Prints the average value of your model's loss on the test dataset\n",
    "    :param model: torch.nn.Module - your model you're training\n",
    "    :param loss_function: torch.nn.Module - your loss function\n",
    "    :param test_dataloader: torch.utils.data.DataLoader - Your test dataset's data loader\n",
    "    \"\"\"\n",
    "    model.eval()\n",
    "    test_loss = 0.\n",
    "    with torch.no_grad():\n",
    "        for X, y in test_dataloader:\n",
    "            X = X.to(device)\n",
    "            y = y.to(device)\n",
    "            pred = model(X)\n",
    "            test_loss += loss_function(pred, y).item()\n",
    "    print(f\"Avg test loss: {test_loss / len(test_dataloader)}\")\n",
    "\n",
    "#see how a randomly initialized model performs\n",
    "print(\"Performance before training:\")\n",
    "evaluate_model(model, loss_function, test_dataloader)"
   ]
  },
  {
   "cell_type": "code",
   "execution_count": 4,
   "id": "080d9f43-e401-47b2-9c1d-a9f2546b2d00",
   "metadata": {},
   "outputs": [
    {
     "data": {
      "image/png": "[encoded data removed]",
      "text/plain": [
       "<Figure size 1500x500 with 3 Axes>"
      ]
     },
     "metadata": {},
     "output_type": "display_data"
    }
   ],
   "source": [
    "def plot_num2num_prediction(X, y, pred):\n",
    "    \"\"\"\n",
    "    X, y, and pred are all numpy arrays of dimension (28, 28)\n",
    "    \"\"\"\n",
    "    fig, axes = plt.subplots(1, 3, figsize=(15, 5))\n",
    "    axes[0].imshow(X.squeeze(), cmap=\"gray\", vmin = 0., vmax = 1.)\n",
    "    axes[0].set_title(f\"Predictor Image\")\n",
    "    axes[0].axis(\"off\")\n",
    "    axes[1].imshow(pred.squeeze(), cmap=\"gray\", vmin = 0., vmax = 1.)\n",
    "    axes[1].set_title(f\"Predicted Image\")\n",
    "    axes[1].axis(\"off\")\n",
    "    axes[2].imshow(y.squeeze(), cmap=\"gray\", vmin = 0., vmax = 1.)\n",
    "    axes[2].set_title(f\"True Image\")\n",
    "    axes[2].axis(\"off\")\n",
    "    plt.tight_layout()\n",
    "    plt.show()\n",
    "\n",
    "#select a random sample from our test dataset\n",
    "rand_test_idx = np.random.randint(len(test_ds))\n",
    "i = rand_test_idx\n",
    "\n",
    "#index test Dataset to get predictor (X) and target (y)\n",
    "X, y = test_ds[i]\n",
    "X_gpu = torch.from_numpy(X).to(device) #put the data onto the gpu\n",
    "\n",
    "#make a prediction without keeping track of the gradient\n",
    "with torch.no_grad():\n",
    "    pred = model(X_gpu)\n",
    "    pred = pred.cpu().numpy()\n",
    "\n",
    "#plot predictions\n",
    "plot_num2num_prediction(X, y, pred)"
   ]
  },
  {
   "cell_type": "code",
   "execution_count": 5,
   "id": "704cf064-f1c3-4f41-8368-3e1d1ab3ee80",
   "metadata": {},
   "outputs": [
    {
     "name": "stdout",
     "output_type": "stream",
     "text": [
      "Starting epoch 1\n",
      "Avg test loss: 0.05509094810619141\n",
      "Starting epoch 2\n",
      "Avg test loss: 0.054823217133934884\n",
      "Starting epoch 3\n",
      "Avg test loss: 0.05459794093863652\n",
      "Starting epoch 4\n",
      "Avg test loss: 0.05465060049971453\n",
      "Starting epoch 5\n",
      "Avg test loss: 0.054532245646555205\n"
     ]
    }
   ],
   "source": [
    "def save_model_checkpoint(epoch, model, optimizer, loss):\n",
    "    \"\"\"\n",
    "    Saves a model such that you can load it and resume training.\n",
    "    :param epoch: int - the training epoch in which the model is being saved\n",
    "    :param model: torch.nn.Module - your model you're training\n",
    "    :param optimizer: torch.optim.Optimizer - the optimizer you're using to update nn params\n",
    "    :param loss: object returned by your loss function (e.g. loss = loss_function(pred, y))\n",
    "    \"\"\"\n",
    "    #save model for resuming training\n",
    "    model_save_dir = os.path.join(os.getcwd(), \"models\", \"MNIST_num2num\", \"model_checkpoints\", \"dense_nn_2HL\")\n",
    "    os.makedirs(model_save_dir, exist_ok = True)\n",
    "    torch.save({\n",
    "        \"epoch\" : epochs,\n",
    "        \"model_state_dict\": model.state_dict(),\n",
    "        \"optimizer_state_dict\": optimizer.state_dict(),\n",
    "        \"loss\": loss\n",
    "        }, os.path.join(model_save_dir, f\"epoch{epoch}.pth\"))\n",
    "\n",
    "for epoch in range(epochs):\n",
    "    print(f\"Starting epoch {epoch + 1}\")\n",
    "\n",
    "    #Run training loop\n",
    "    model.train()\n",
    "    for batchnum, data in enumerate(train_dataloader):\n",
    "        \n",
    "        X, y = data\n",
    "        X = X.to(device)\n",
    "        y = y.to(device)\n",
    "        pred = model(X)\n",
    "        loss = loss_function(pred, y)\n",
    "\n",
    "        #Backprop\n",
    "        loss.backward()\n",
    "        optimizer.step()\n",
    "        optimizer.zero_grad()\n",
    "\n",
    "    #run eval loop\n",
    "    evaluate_model(model, loss_function, test_dataloader)\n",
    "\n",
    "    #save checkpoint\n",
    "    save_model_checkpoint(epoch, model, optimizer, loss)\n",
    "\n",
    "    #for loading, see https://pytorch.org/tutorials/beginner/saving_loading_models.html#load\n"
   ]
  },
  {
   "cell_type": "code",
   "execution_count": 6,
   "id": "96cc3bd4-1354-4d91-8d03-eed06eea4222",
   "metadata": {},
   "outputs": [
    {
     "data": {
      "text/plain": [
       "NeuralNetwork(\n",
       "  (flatten): Flatten(start_dim=1, end_dim=-1)\n",
       "  (linear_relu_stack): Sequential(\n",
       "    (0): Linear(in_features=784, out_features=512, bias=True)\n",
       "    (1): ReLU()\n",
       "    (2): Linear(in_features=512, out_features=512, bias=True)\n",
       "    (3): ReLU()\n",
       "    (4): Linear(in_features=512, out_features=784, bias=True)\n",
       "  )\n",
       ")"
      ]
     },
     "execution_count": 6,
     "metadata": {},
     "output_type": "execute_result"
    }
   ],
   "source": [
    "#save the trained model for *inference*\n",
    "model_save_dir = os.path.join(os.getcwd(), \"models\", \"MNIST_num2num\")\n",
    "os.makedirs(model_save_dir, exist_ok = True)\n",
    "torch.save(model.state_dict(), os.path.join(model_save_dir, \"dense_nn_2HL.pth\"))\n",
    "\n",
    "#load it, because we can\n",
    "model = DenseNeuralNetwork()\n",
    "model.load_state_dict(torch.load(os.path.join(model_save_dir, \"dense_nn_2HL.pth\"), weights_only = True))\n",
    "model.eval()\n",
    "model.to(device)"
   ]
  },
  {
   "cell_type": "code",
   "execution_count": 9,
   "id": "e03eed8a-1805-4d2d-9e8b-073be5a90f6f",
   "metadata": {},
   "outputs": [
    {
     "data": {
      "image/png": "[encoded data removed]",
      "text/plain": [
       "<Figure size 1500x500 with 3 Axes>"
      ]
     },
     "metadata": {},
     "output_type": "display_data"
    }
   ],
   "source": [
    "#make prediction plot as before, but with trained model\n",
    "rand_test_idx = np.random.randint(len(test_ds))\n",
    "i = rand_test_idx\n",
    "X, y = test_ds[i]\n",
    "X_gpu = torch.from_numpy(X).to(device)\n",
    "with torch.no_grad():\n",
    "    pred = model(X_gpu)\n",
    "    pred = pred.cpu().numpy()\n",
    "plot_num2num_prediction(X, y, pred)"
   ]
  },
  {
   "cell_type": "code",
   "execution_count": 10,
   "id": "fb4d0926-ecf8-4a9b-836c-58d1d099ca38",
   "metadata": {},
   "outputs": [
    {
     "data": {
      "text/plain": [
       "<matplotlib.image.AxesImage at 0x1fb55eec740>"
      ]
     },
     "execution_count": 10,
     "metadata": {},
     "output_type": "execute_result"
    },
    {
     "data": {
      "image/png": "[encoded data removed]",
      "text/plain": [
       "<Figure size 640x480 with 1 Axes>"
      ]
     },
     "metadata": {},
     "output_type": "display_data"
    }
   ],
   "source": [
    "#plot the residual just for fun\n",
    "plt.imshow(pred.squeeze() - y.squeeze(), cmap = \"RdBu\", vmin = -1., vmax = 1.)"
   ]
  }
 ],
 "metadata": {
  "kernelspec": {
   "display_name": "Python 3 (ipykernel)",
   "language": "python",
   "name": "python3"
  },
  "language_info": {
   "codemirror_mode": {
    "name": "ipython",
    "version": 3
   },
   "file_extension": ".py",
   "mimetype": "text/x-python",
   "name": "python",
   "nbconvert_exporter": "python",
   "pygments_lexer": "ipython3",
   "version": "3.12.8"
  }
 },
 "nbformat": 4,
 "nbformat_minor": 5
}
