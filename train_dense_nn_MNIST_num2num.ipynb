{
 "cells": [
  {
   "cell_type": "markdown",
   "id": "262fcb8f-f807-4edd-acd2-748cbd1f1be3",
   "metadata": {},
   "source": [
    "# MNIST Next-Number Image Mapping with a Densely Connected NN (base PyTorch)"
   ]
  },
  {
   "cell_type": "code",
   "execution_count": 1,
   "id": "cae0b713-30ce-43b9-8dd4-217126c3192a",
   "metadata": {},
   "outputs": [],
   "source": [
    "import torch\n",
    "from torch import nn\n",
    "from torch.utils.data import Dataset\n",
    "from torchvision import datasets\n",
    "from torchvision.transforms import ToTensor\n",
    "\n",
    "from netCDF4 import Dataset as nc_Dataset\n",
    "from torch.utils.data import DataLoader\n",
    "\n",
    "import xarray as xr\n",
    "import pandas as pd\n",
    "import os\n",
    "import numpy as np\n",
    "import matplotlib.pyplot as plt"
   ]
  },
  {
   "cell_type": "markdown",
   "id": "f2fb6323-7734-4697-883e-9a49dc9d0a99",
   "metadata": {},
   "source": [
    "## Boilerplate Classes\n",
    "Every workflow using base PyTorch must have, at minimum, the following two classes implemented.\n",
    "### Dataset Class\n",
    "Inherits from torch.utils.data.Dataset, an abstract class (so no super().\\_\\_init\\_\\_() needed in constructor). This class encapsulates opening your dataset and extracting samples. When instantiated, this class can be indexed like a list. It must implement the following three methods:\n",
    "- **\\_\\_init\\_\\_(self, \\*args)** : Class constructor. Either open your dataset from the filesystem and set as a class attribute or specify paths, sample indices, etc. for opening on the fly.\n",
    "- **\\_\\_len\\_\\_(self, \\*args)** : Defines the number of elements in your dataset. In this example, it is very simple; it's just the number of elements in our mapping CSV file. But it can become more complex with dynamically generated samples.\n",
    "- **\\_\\_getitem\\_\\_(self, idx, \\*args)** : Implements indexing for the class. This way, YourDatasetClass\\[0\\] will return a tuple of (predictors, target). Note: it is important to return a tuple of tuples in this method e.g. ( (predictors), (target) ). This allows nice tuple unpacking syntax. It also PyTorch to do numpy to tensor casting under the hood.\n",
    "\n",
    "### Model Class\n",
    "Inherits from torch.nn.Module. This class encapsulates your model architecture. \n",
    "- **\\_\\_init\\_\\_(self, \\*args)** : Class constructor that calls super this time. Used to assemble all your model's components at instantiation. In general, any child class of torch.nn.Module can be nested as a compnent in another Module. This means that if you have a custom \"block\" (e.g. ConvNext), you can define that as its own class and then create instances in this constructor.\n",
    "- **forward(self, x, \\*args)** : Describes how an input tensor, x, moves through your model. Since most modules don't mutate x, x is reassigned after each operation. It goes without saying that the final tensor returned by this method should match the dimensions of your target.\n"
   ]
  },
  {
   "cell_type": "code",
   "execution_count": 2,
   "id": "8d8fa6f0-d17a-47fa-bd95-e6150569f0c0",
   "metadata": {},
   "outputs": [],
   "source": [
    "class MNISTNextDigitDataset(Dataset):\n",
    "    \"\"\"\n",
    "    Assumes you've generated nc files as described in create_nc_MNIST.py and have mappings from MNIST_num2num_mapping.py.\n",
    "    \"\"\"\n",
    "    def __init__(self, is_train = False):\n",
    "        \"\"\"\n",
    "        :param is_train: bool - describes whether to load training or testing dataset\n",
    "        \"\"\"\n",
    "\n",
    "        #get paths\n",
    "        if is_train:\n",
    "            data_save_path = os.path.join(os.getcwd(), \"data\", \"MNIST\", \"nc_versions\", \"MNIST_training.nc\")\n",
    "            indices_save_path = os.path.join(os.getcwd(), \"data\", \"MNIST\", \"num2num_indices\", \"train_indices.csv\")\n",
    "        else:\n",
    "            data_save_path = os.path.join(os.getcwd(), \"data\", \"MNIST\", \"nc_versions\", \"MNIST_testing.nc\")\n",
    "            indices_save_path = os.path.join(os.getcwd(), \"data\", \"MNIST\", \"num2num_indices\", \"test_indices.csv\")\n",
    "\n",
    "        #open netCDF4 Dataset of MNIST\n",
    "        self.nc_dataset = nc_Dataset(data_save_path)\n",
    "\n",
    "        #read mapping indices from CSV\n",
    "        self.predictor_indices, self.target_indices = self._read_mapping_indices_from_csv(indices_save_path)\n",
    "        assert len(self.predictor_indices) == len(self.target_indices), \"Predictor indices array should be of the same length as the target indices array\"\n",
    "        \n",
    "    def __len__(self):\n",
    "        return len(self.predictor_indices)\n",
    "        \n",
    "    def __getitem__(self, idx):\n",
    "\n",
    "        #get sample index for predictor and target\n",
    "        p_idx = self.predictor_indices[idx]\n",
    "        t_idx = self.target_indices[idx]\n",
    "\n",
    "        #extract images from nc_dataset\n",
    "        predictor = self.nc_dataset[\"image\"][p_idx,:,:].data[np.newaxis,:,:] #get image and add channel dimension\n",
    "        target = self.nc_dataset[\"image\"][t_idx,:,:].data[np.newaxis,:,:]\n",
    "        \n",
    "        return (predictor), (target) #important to return tuple of tuples! Allows nice X, y unpacking and allows PyTorch to do the tensor casting itself\n",
    "    \n",
    "    @staticmethod\n",
    "    def _read_mapping_indices_from_csv(csv_path):\n",
    "        df = pd.read_csv(csv_path)\n",
    "        predictor_indices = df['predictor'].values \n",
    "        target_indices = df['target'].values\n",
    "        return predictor_indices, target_indices\n",
    "\n",
    "#super simple neural net\n",
    "class DenseNeuralNetwork(nn.Module):\n",
    "    def __init__(self):\n",
    "        super().__init__()\n",
    "\n",
    "        #define components of your network\n",
    "        self.flatten = nn.Flatten()\n",
    "        self.linear_relu_stack = nn.Sequential(\n",
    "            nn.Linear(28*28, 512), #hidden layer 1; img_dim -> 512 neurons\n",
    "            nn.ReLU(), #activation\n",
    "            nn.Linear(512,512), #hidden layer 2; 512 neurons -> 512 neurons\n",
    "            nn.ReLU(), #activation\n",
    "            nn.Linear(512, 28*28), #output layer; 512 neurons -> img_dim\n",
    "        )\n",
    "\n",
    "    def forward(self, x):\n",
    "        x = self.flatten(x) #flatten the image into a very long 1D vector\n",
    "        x = self.linear_relu_stack(x) #pass it through the two hidden layers\n",
    "        x = x.view(-1, 1, 28, 28) #reshape the final 1D vector back into an image\n",
    "        return x"
   ]
  },
  {
   "cell_type": "markdown",
   "id": "38544c2f-1ad7-4f3e-ab4a-b20c7f5d6ba5",
   "metadata": {},
   "source": [
    "## Instantiating Training Objects\n",
    "\n",
    "To prepare for the training loop, we must instantiate all the objects that will be used. This includes the model, and architecture hyperparameters can be passed as arguments to the constructor; the loss function (MSE loss in this case); the optimizer; the datasets; and dataloaders.\n",
    "\n",
    "A quick note on data loaders: torch.utils.data.DataLoader wraps your dataset to accomodate batching and shuffling of data. They can also cause unexpected behavior like returning a list instead of a tuple.\n",
    "\n",
    "Another quick note: if you are training on your GPU, you must put your model onto that device with model.to(device)"
   ]
  },
  {
   "cell_type": "code",
   "execution_count": 3,
   "id": "9100ef71-65e8-4a07-9768-519fd3ca9765",
   "metadata": {},
   "outputs": [],
   "source": [
    "#PyTorch's lingo for your GPU\n",
    "device = (\"cuda\")\n",
    "\n",
    "#initialize model and put it on the GPU\n",
    "model = DenseNeuralNetwork()\n",
    "model = model.to(device)\n",
    "\n",
    "#set training hyperparameters\n",
    "learning_rate = 1e-3\n",
    "batch_size = 64\n",
    "epochs = 5\n",
    "\n",
    "#initialize optimization objects\n",
    "loss_function = nn.MSELoss()\n",
    "optimizer = torch.optim.Adam(model.parameters(), lr = learning_rate)\n",
    "\n",
    "#load datasets\n",
    "train_ds = MNISTNextDigitDataset(is_train = True)\n",
    "test_ds = MNISTNextDigitDataset(is_train = False)\n",
    "\n",
    "#put datasets into DataLoaders so PyTorch handles batches and shuffling\n",
    "train_dataloader = DataLoader(train_ds, batch_size = batch_size, shuffle = True)\n",
    "test_dataloader = DataLoader(test_ds, batch_size = batch_size, shuffle = True)"
   ]
  },
  {
   "cell_type": "markdown",
   "id": "1a108b91-3b27-4549-8507-1eaa51b20f09",
   "metadata": {},
   "source": [
    "## Model Performance Prior to Training\n",
    "Let's take a look at what a model initialized with random weights predicts. The first cell gives the average MSE over the test dataset. The second cell visualizes a random test sample."
   ]
  },
  {
   "cell_type": "code",
   "execution_count": 4,
   "id": "1b4db8ef-b0f2-4883-9787-91829a09c2c0",
   "metadata": {},
   "outputs": [
    {
     "name": "stdout",
     "output_type": "stream",
     "text": [
      "Performance before training:\n",
      "Avg test loss: 0.11691164544310433\n"
     ]
    }
   ],
   "source": [
    "def evaluate_model(model, loss_function, test_dataloader):\n",
    "    \"\"\"\n",
    "    Prints the average value of your model's loss on the test dataset\n",
    "    :param model: torch.nn.Module - your model you're training\n",
    "    :param loss_function: torch.nn.Module - your loss function\n",
    "    :param test_dataloader: torch.utils.data.DataLoader - Your test dataset's data loader\n",
    "    \"\"\"\n",
    "    model.eval()\n",
    "    test_loss = 0.\n",
    "    with torch.no_grad():\n",
    "        for X, y in test_dataloader:\n",
    "            X = X.to(device)\n",
    "            y = y.to(device)\n",
    "            pred = model(X)\n",
    "            test_loss += loss_function(pred, y).item()\n",
    "    print(f\"Avg test loss: {test_loss / len(test_dataloader)}\")\n",
    "\n",
    "#see how a randomly initialized model performs\n",
    "print(\"Performance before training:\")\n",
    "evaluate_model(model, loss_function, test_dataloader) #not very useful to us at this point..."
   ]
  },
  {
   "cell_type": "code",
   "execution_count": 5,
   "id": "080d9f43-e401-47b2-9c1d-a9f2546b2d00",
   "metadata": {},
   "outputs": [
    {
     "data": {
      "image/png": "[encoded data removed]",
      "text/plain": [
       "<Figure size 1500x500 with 3 Axes>"
      ]
     },
     "metadata": {},
     "output_type": "display_data"
    }
   ],
   "source": [
    "def plot_num2num_prediction(X, y, pred):\n",
    "    \"\"\"\n",
    "    X, y, and pred are all numpy arrays of dimension (28, 28)\n",
    "    \"\"\"\n",
    "    fig, axes = plt.subplots(1, 3, figsize=(15, 5))\n",
    "    axes[0].imshow(X.squeeze(), cmap=\"gray\", vmin = 0., vmax = 1.)\n",
    "    axes[0].set_title(f\"Predictor Image\")\n",
    "    axes[0].axis(\"off\")\n",
    "    axes[1].imshow(pred.squeeze(), cmap=\"gray\", vmin = 0., vmax = 1.)\n",
    "    axes[1].set_title(f\"Predicted Image\")\n",
    "    axes[1].axis(\"off\")\n",
    "    axes[2].imshow(y.squeeze(), cmap=\"gray\", vmin = 0., vmax = 1.)\n",
    "    axes[2].set_title(f\"True Image\")\n",
    "    axes[2].axis(\"off\")\n",
    "    plt.tight_layout()\n",
    "    plt.show()\n",
    "\n",
    "#select a random sample from our test dataset\n",
    "rand_test_idx = np.random.randint(len(test_ds))\n",
    "i = rand_test_idx\n",
    "\n",
    "#index test Dataset to get predictor (X) and target (y)\n",
    "X, y = test_ds[i]\n",
    "X_gpu = torch.from_numpy(X).to(device) #put the data onto the gpu\n",
    "\n",
    "#make a prediction without keeping track of the gradient\n",
    "with torch.no_grad():\n",
    "    pred = model(X_gpu)\n",
    "    pred = pred.cpu().numpy()\n",
    "\n",
    "#plot predictions\n",
    "plot_num2num_prediction(X, y, pred) #ok, there's room for improvement!"
   ]
  },
  {
   "cell_type": "markdown",
   "id": "d11a39fb-2647-4ce7-b7e0-c58a47689f5a",
   "metadata": {},
   "source": [
    "## The Training Loop\n",
    "In base PyTorch, the training loop describes what should be done for each epoch of model training. For each epoch, you should do the following:\n",
    "- set model.train() (as opposed to model.eval()). This enables bells and whistles like Dropout and BatchNorm\n",
    "- iterate over your training DataLoader to get training samples\n",
    "- if running on your GPU, put your predictors, X, and targets, y, onto the GPU\n",
    "- make predictions by calling model(X)\n",
    "- compute and store loss by feeding predictions and targets to your loss function object\n",
    "\n",
    "Great! Now we have all we need to perform backpropogation. To do so:\n",
    "- loss.backward() computes the gradient of all model parameters with respect to the loss function via autodifferentiation\n",
    "- optimizer.step() performs its flavour of gradient descent to adjust parameters\n",
    "- optimizer.zero_grad() gets rid of the computed gradient in preparation for the next epoch\n",
    "\n",
    "Lastly, we need an evaluation on our validation or testing dataset in order to confirm we are not overfitting. I simply use average MSE as before. Additionally, I've implemented model checkpointing so after every epoch, the model -- along with all the necessary objects for training -- is saved to disk and can be loaded to resume training or perform inference across multiple epochs."
   ]
  },
  {
   "cell_type": "code",
   "execution_count": 6,
   "id": "704cf064-f1c3-4f41-8368-3e1d1ab3ee80",
   "metadata": {},
   "outputs": [
    {
     "name": "stdout",
     "output_type": "stream",
     "text": [
      "Starting epoch 1\n",
      "Avg test loss: 0.055140173116240636\n",
      "Starting epoch 2\n",
      "Avg test loss: 0.054903234667576156\n",
      "Starting epoch 3\n",
      "Avg test loss: 0.05472084235983154\n",
      "Starting epoch 4\n",
      "Avg test loss: 0.054683273271345104\n",
      "Starting epoch 5\n",
      "Avg test loss: 0.05463006452154428\n"
     ]
    }
   ],
   "source": [
    "def save_model_checkpoint(epoch, model, optimizer, loss, model_name = \"dense_nn_2HL\"):\n",
    "    \"\"\"\n",
    "    Saves a model such that you can load it and resume training.\n",
    "    :param epoch: int - the training epoch in which the model is being saved\n",
    "    :param model: torch.nn.Module - your model you're training\n",
    "    :param optimizer: torch.optim.Optimizer - the optimizer you're using to update nn params\n",
    "    :param loss: object returned by your loss function (e.g. loss = loss_function(pred, y))\n",
    "    :param model_name: str - name of the directory in which your model checkpoints will be saved\n",
    "    \"\"\"\n",
    "    #save model for resuming training\n",
    "    model_save_dir = os.path.join(os.getcwd(), \"models\", \"MNIST_num2num\", \"model_checkpoints\", model_name)\n",
    "    os.makedirs(model_save_dir, exist_ok = True)\n",
    "    torch.save({\n",
    "        \"epoch\" : epoch,\n",
    "        \"model_state_dict\": model.state_dict(),\n",
    "        \"optimizer_state_dict\": optimizer.state_dict(),\n",
    "        \"loss\": loss\n",
    "        }, os.path.join(model_save_dir, f\"epoch{epoch}.pth\"))\n",
    "\n",
    "for epoch in range(epochs):\n",
    "    print(f\"Starting epoch {epoch + 1}\")\n",
    "\n",
    "    #Run training loop\n",
    "    model.train()\n",
    "    for batchnum, data in enumerate(train_dataloader):\n",
    "        \n",
    "        X, y = data\n",
    "        X = X.to(device)\n",
    "        y = y.to(device)\n",
    "        pred = model(X)\n",
    "        loss = loss_function(pred, y)\n",
    "\n",
    "        #Backprop\n",
    "        loss.backward()\n",
    "        optimizer.step()\n",
    "        optimizer.zero_grad()\n",
    "\n",
    "    #run eval loop\n",
    "    evaluate_model(model, loss_function, test_dataloader)\n",
    "\n",
    "    #save checkpoint\n",
    "    save_model_checkpoint(epoch, model, optimizer, loss)\n",
    "\n",
    "    #for loading, see https://pytorch.org/tutorials/beginner/saving_loading_models.html#load\n"
   ]
  },
  {
   "cell_type": "markdown",
   "id": "022300cd-26ca-4077-9750-60dad8d93df4",
   "metadata": {},
   "source": [
    "## Saving and Loading the Final Model\n",
    "Once your model is in a spot where you no longer wish to update its parameters, you can save just its state dictionary. Torch save just pickles the object. To load, create a new instance of your model class and call model.load_state_dict(PATH, weights_only = True). Then set your model to evaluation mode, put it on the right device, and you're ready for inference!"
   ]
  },
  {
   "cell_type": "code",
   "execution_count": 7,
   "id": "96cc3bd4-1354-4d91-8d03-eed06eea4222",
   "metadata": {},
   "outputs": [
    {
     "data": {
      "text/plain": [
       "DenseNeuralNetwork(\n",
       "  (flatten): Flatten(start_dim=1, end_dim=-1)\n",
       "  (linear_relu_stack): Sequential(\n",
       "    (0): Linear(in_features=784, out_features=512, bias=True)\n",
       "    (1): ReLU()\n",
       "    (2): Linear(in_features=512, out_features=512, bias=True)\n",
       "    (3): ReLU()\n",
       "    (4): Linear(in_features=512, out_features=784, bias=True)\n",
       "  )\n",
       ")"
      ]
     },
     "execution_count": 7,
     "metadata": {},
     "output_type": "execute_result"
    }
   ],
   "source": [
    "#save the trained model for *inference*\n",
    "model_save_dir = os.path.join(os.getcwd(), \"models\", \"MNIST_num2num\")\n",
    "os.makedirs(model_save_dir, exist_ok = True)\n",
    "torch.save(model.state_dict(), os.path.join(model_save_dir, \"dense_nn_2HL.pth\"))\n",
    "\n",
    "#load it, because we can\n",
    "model = DenseNeuralNetwork()\n",
    "model.load_state_dict(torch.load(os.path.join(model_save_dir, \"dense_nn_2HL.pth\"), weights_only = True))\n",
    "model.eval()\n",
    "model.to(device)"
   ]
  },
  {
   "cell_type": "markdown",
   "id": "9404fa74-f287-4aff-a731-1c10088b0a4d",
   "metadata": {},
   "source": [
    "## Model Performance After Training\n",
    "\n",
    "Now when we feed the trained model a predictor image, it successfully creates an image of the next digit, abeit fuzzily. This has everything to do with the uncertainty in the problem. The digit mapping is *not* injective, that is, the same digit may be mapped to several different subsequent ones. Therefore, when asking the model to make a deterministic step to the next digit, it has to \"hedge\" against not knowing the particular form of the next digit."
   ]
  },
  {
   "cell_type": "code",
   "execution_count": 8,
   "id": "e03eed8a-1805-4d2d-9e8b-073be5a90f6f",
   "metadata": {},
   "outputs": [
    {
     "data": {
      "image/png": "[encoded data removed]",
      "text/plain": [
       "<Figure size 1500x500 with 3 Axes>"
      ]
     },
     "metadata": {},
     "output_type": "display_data"
    }
   ],
   "source": [
    "#make prediction plot as before, but with trained model\n",
    "rand_test_idx = np.random.randint(len(test_ds))\n",
    "i = rand_test_idx\n",
    "X, y = test_ds[i]\n",
    "X_gpu = torch.from_numpy(X).to(device)\n",
    "with torch.no_grad():\n",
    "    pred = model(X_gpu)\n",
    "    pred = pred.cpu().numpy()\n",
    "plot_num2num_prediction(X, y, pred)"
   ]
  },
  {
   "cell_type": "markdown",
   "id": "cebf72c2-55c9-47ea-8110-dd52caa1c460",
   "metadata": {},
   "source": [
    "## Impact of Fuzziness on Autoregressive Rollout\n",
    "With our simple, densely-connected NN architecture, the fuzziness causes instability in an autoregressive rollout (feeding model output back into itself). Particularly, the fuzzy 1s, 5s, and 3s are confused for 8s, and the model gets caught osillating between 9s and 0ish output."
   ]
  },
  {
   "cell_type": "code",
   "execution_count": 18,
   "id": "f64bdb33-9cd8-42d8-8c8f-f090763d85d5",
   "metadata": {},
   "outputs": [
    {
     "data": {
      "image/png": "[encoded data removed]",
      "text/plain": [
       "<Figure size 5000x500 with 10 Axes>"
      ]
     },
     "metadata": {},
     "output_type": "display_data"
    }
   ],
   "source": [
    "def plot_autoregressive_sequence(X, model, n_steps=3):\n",
    "    \"\"\"\n",
    "    Plots the progression from the original predictor image through n autoregressive steps.\n",
    "    :param X: numpy array - Original predictor image\n",
    "    :param model: torch.nn.Module - Trained model for predictions\n",
    "    :param n_steps: int - Number of autoregressive steps to take\n",
    "    \"\"\"\n",
    "    device = next(model.parameters()).device \n",
    "    X_gpu = torch.from_numpy(X).to(device)\n",
    "\n",
    "    predictions = [X] \n",
    "    current_input = X_gpu\n",
    "\n",
    "    with torch.no_grad():\n",
    "        for _ in range(n_steps):\n",
    "            pred = model(current_input)  \n",
    "            pred_np = pred.cpu().numpy()  \n",
    "            predictions.append(pred_np) \n",
    "            current_input = torch.from_numpy(pred_np).to(device)  # Use prediction as new input\n",
    "\n",
    "    # Create dynamic plotting layout\n",
    "    n_cols = n_steps + 1  # Predictor + n steps + True image\n",
    "    fig, axes = plt.subplots(1, n_cols, figsize=(5 * n_cols, 5))\n",
    "\n",
    "    # Plot predictor image\n",
    "    axes[0].imshow(X.squeeze(), cmap=\"gray\", vmin=0., vmax=1.)\n",
    "    axes[0].set_title(\"Predictor Image\")\n",
    "    axes[0].axis(\"off\")\n",
    "\n",
    "    # Plot each autoregressive step\n",
    "    for i in range(1, n_steps + 1):\n",
    "        axes[i].imshow(predictions[i].squeeze(), cmap=\"gray\", vmin=0., vmax=1.)\n",
    "        axes[i].set_title(f\"Predicted Image (Step {i})\")\n",
    "        axes[i].axis(\"off\")\n",
    "\n",
    "    plt.tight_layout()\n",
    "    plt.show()\n",
    "\n",
    "# Select a random test sample\n",
    "rand_test_idx = np.random.randint(len(test_ds))\n",
    "X, y = test_ds[rand_test_idx]\n",
    "\n",
    "# Call function with n autoregressive steps\n",
    "plot_autoregressive_sequence(X, model, n_steps=9)\n"
   ]
  }
 ],
 "metadata": {
  "kernelspec": {
   "display_name": "Python 3 (ipykernel)",
   "language": "python",
   "name": "python3"
  },
  "language_info": {
   "codemirror_mode": {
    "name": "ipython",
    "version": 3
   },
   "file_extension": ".py",
   "mimetype": "text/x-python",
   "name": "python",
   "nbconvert_exporter": "python",
   "pygments_lexer": "ipython3",
   "version": "3.13.1"
  }
 },
 "nbformat": 4,
 "nbformat_minor": 5
}
